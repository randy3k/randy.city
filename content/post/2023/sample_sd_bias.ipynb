{
 "cells": [
  {
   "cell_type": "code",
   "execution_count": 1,
   "id": "3520bfea",
   "metadata": {},
   "outputs": [],
   "source": [
    "from sympy import *\n",
    "init_printing()"
   ]
  },
  {
   "cell_type": "code",
   "execution_count": 2,
   "id": "f59f2369",
   "metadata": {},
   "outputs": [],
   "source": [
    "from sympy.utilities.iterables import partitions, multiset, multiset_permutations\n",
    "import math"
   ]
  },
  {
   "cell_type": "code",
   "execution_count": 3,
   "id": "0d67991e",
   "metadata": {},
   "outputs": [],
   "source": [
    "n = Symbol('n')  # sample size\n",
    "mu = IndexedBase(\"mu\")  # central moments"
   ]
  },
  {
   "cell_type": "markdown",
   "id": "dbce9113",
   "metadata": {},
   "source": [
    "Suppose $X_i$ are i.i.d. with mean $\\mu$ and  central moments $\\mu_k = E(X-\\mu)^k$.\n",
    "\n",
    "The following function computes $E\\left[\\left(\\sum_{i=1}^n (X_i-\\mu)^2\\right)^p \\left(\\sum_{i=1}^n (X_i-\\mu)\\right)^q \\right]$ in terms of $\\mu_k$, it will be used later to compute moments of sample variance."
   ]
  },
  {
   "cell_type": "code",
   "execution_count": 4,
   "id": "39d72e64",
   "metadata": {},
   "outputs": [],
   "source": [
    "# The follow algorithm is modified from Algorithm 1 of \n",
    "# Vegas-Sánchez-Ferrero, Gonzalo, et al. \"A direct calculation of moments of the sample variance.\" \n",
    "# Mathematics and Computers in Simulation 82.5 (2012): 790-804\n",
    "# in order to express in terms of central moments.\n",
    "\n",
    "def ESX2pSXq(n, p, q, mu = IndexedBase(\"mu\")):\n",
    "    total = 0\n",
    "    M = p + q\n",
    "    for s in range(1, M + 1):\n",
    "        nCs = binomial(n, s)\n",
    "        parts = partitions(M, s, size = True)\n",
    "        for size, part in parts:\n",
    "            if size != s:\n",
    "                continue\n",
    "            part = [k for k, v in part.items() for j in range(v)]\n",
    "            sigma = int(math.factorial(len(part)) / prod([math.factorial(x) for x in multiset(part).values()]))\n",
    "            perms = multiset_permutations([i + 1 for i, v in enumerate(part) for j in range(v)])\n",
    "            for perm in perms:\n",
    "                c = [0]*M\n",
    "                for j in range(1, M+1):\n",
    "                    for i, x in enumerate(perm):\n",
    "                        if x == j:\n",
    "                            if i < p:\n",
    "                                c[j - 1] += 2\n",
    "                            else:\n",
    "                                c[j - 1] += 1\n",
    "                if 1 in c:\n",
    "                    continue\n",
    "                e = 1\n",
    "                for j in range(0, M):\n",
    "                    if c[j] > 0:\n",
    "                        e *= mu[c[j]]\n",
    "                total += nCs * sigma * e\n",
    "    return total"
   ]
  },
  {
   "cell_type": "markdown",
   "id": "4452dcb4",
   "metadata": {},
   "source": [
    "Example 1: $E\\left(\\sum_{i=1}^n (X_i-\\mu)^2\\right) = n Var(X_i)$ "
   ]
  },
  {
   "cell_type": "code",
   "execution_count": 5,
   "id": "8a20c081",
   "metadata": {},
   "outputs": [
    {
     "data": {
      "text/latex": [
       "$\\displaystyle n {\\mu}_{2}$"
      ],
      "text/plain": [
       "n⋅mu[2]"
      ]
     },
     "execution_count": 5,
     "metadata": {},
     "output_type": "execute_result"
    }
   ],
   "source": [
    "ESX2pSXq(n, 1, 0)"
   ]
  },
  {
   "cell_type": "markdown",
   "id": "d8b705a1",
   "metadata": {},
   "source": [
    "Example 2: $E\\left[\\sum_{i=1}^n (X_i-\\mu)\\right]^2 = n^2 Var(\\bar X)$ "
   ]
  },
  {
   "cell_type": "code",
   "execution_count": 6,
   "id": "24a71ee0",
   "metadata": {},
   "outputs": [
    {
     "data": {
      "text/latex": [
       "$\\displaystyle n {\\mu}_{2}$"
      ],
      "text/plain": [
       "n⋅mu[2]"
      ]
     },
     "execution_count": 6,
     "metadata": {},
     "output_type": "execute_result"
    }
   ],
   "source": [
    "ESX2pSXq(n, 0, 2)"
   ]
  },
  {
   "cell_type": "markdown",
   "id": "d8a95e8b",
   "metadata": {},
   "source": [
    "We are ready to compute the moments of sample variance $V_n=S_n^2$ because\n",
    "\n",
    "$$\n",
    "\\begin{align*}\n",
    "E(V_n^k) &= E\\left[\\left( \\frac{1}{n-1}\\sum_{i=1}^n (X_i-\\bar X)^2 \\right)^k\\right] \\\\\n",
    "& =E\\left[\\left( \\frac{1}{n-1} \\left( \\sum_{i=1}^n  (X_i-\\mu)^2 - \\sum_{i=1}^n(\\bar X - \\mu)^2 \\right) \\right)^k\\right] \\\\\n",
    "&= \\left( \\frac{1}{n-1} \\right)^k \\sum_{r=0}^k \\binom{n}{r} (-1)^{k-r} E\\left[\\left(\\sum_{i=1}^n (X_i-\\mu)^2\\right)^r \\left(\\sum_{i=1}^n (\\bar X -\\mu)^2\\right)^{k-r} \\right] \\\\\n",
    "&= \\left( \\frac{1}{n-1} \\right)^k \\sum_{r=0}^k \\binom{n}{r} (-1)^{k-r} n^{r-k} E\\left[\\left(\\sum_{i=1}^n (X_i-\\mu)^2\\right)^r \\left(\\sum_{i=1}^n (X_i-\\mu)\\right)^{2(k-r)} \\right]\n",
    "\\end{align*}\n",
    "$$"
   ]
  },
  {
   "cell_type": "code",
   "execution_count": 7,
   "id": "76562ed6",
   "metadata": {},
   "outputs": [],
   "source": [
    "def momentV(n, k, mu = IndexedBase(\"mu\")):\n",
    "    if k == 0:\n",
    "        return 1\n",
    "    total = 0\n",
    "    for r in range(k + 1):\n",
    "        total += binomial(k, r) * n**r * (-1)**(k-r) * ESX2pSXq(n, r, 2*(k-r), mu)\n",
    "    return total / n**k / (n-1)**k"
   ]
  },
  {
   "cell_type": "code",
   "execution_count": 8,
   "id": "0c863985",
   "metadata": {},
   "outputs": [
    {
     "data": {
      "text/latex": [
       "$\\displaystyle \\left[ 1, \\  {\\mu}_{2}, \\  \\frac{n^{2} {\\mu}_{2}^{2} - 2 n {\\mu}_{2}^{2} + n {\\mu}_{4} + 3 {\\mu}_{2}^{2} - {\\mu}_{4}}{n \\left(n - 1\\right)}, \\  \\frac{n^{4} {\\mu}_{2}^{3} - 5 n^{3} {\\mu}_{2}^{3} + 3 n^{3} {\\mu}_{2} {\\mu}_{4} + 15 n^{2} {\\mu}_{2}^{3} - 9 n^{2} {\\mu}_{2} {\\mu}_{4} - 6 n^{2} {\\mu}_{3}^{2} + n^{2} {\\mu}_{6} - 33 n {\\mu}_{2}^{3} + 21 n {\\mu}_{2} {\\mu}_{4} + 12 n {\\mu}_{3}^{2} - 2 n {\\mu}_{6} + 30 {\\mu}_{2}^{3} - 15 {\\mu}_{2} {\\mu}_{4} - 10 {\\mu}_{3}^{2} + {\\mu}_{6}}{n^{2} \\left(n - 1\\right)^{2}}\\right]$"
      ],
      "text/plain": [
       "⎡           2      2            2                    2           4      3      3      3\n",
       "⎢          n ⋅mu[2]  - 2⋅n⋅mu[2]  + n⋅mu[4] + 3⋅mu[2]  - mu[4]  n ⋅mu[2]  - 5⋅n ⋅mu[2] \n",
       "⎢1, mu[2], ───────────────────────────────────────────────────, ───────────────────────\n",
       "⎢                               n⋅(n - 1)                                              \n",
       "⎣                                                                                      \n",
       "\n",
       "      3                   2      3      2                  2      2    2               \n",
       " + 3⋅n ⋅mu[2]⋅mu[4] + 15⋅n ⋅mu[2]  - 9⋅n ⋅mu[2]⋅mu[4] - 6⋅n ⋅mu[3]  + n ⋅mu[6] - 33⋅n⋅m\n",
       "───────────────────────────────────────────────────────────────────────────────────────\n",
       "                                                                             2        2\n",
       "                                                                            n ⋅(n - 1) \n",
       "\n",
       "    3                                2                       3                         \n",
       "u[2]  + 21⋅n⋅mu[2]⋅mu[4] + 12⋅n⋅mu[3]  - 2⋅n⋅mu[6] + 30⋅mu[2]  - 15⋅mu[2]⋅mu[4] - 10⋅mu\n",
       "───────────────────────────────────────────────────────────────────────────────────────\n",
       "                                                                                       \n",
       "                                                                                       \n",
       "\n",
       "   2        ⎤\n",
       "[3]  + mu[6]⎥\n",
       "────────────⎥\n",
       "            ⎥\n",
       "            ⎦"
      ]
     },
     "execution_count": 8,
     "metadata": {},
     "output_type": "execute_result"
    }
   ],
   "source": [
    "m = [simplify(momentV(n, j)) for j in range(0, 4)]\n",
    "m"
   ]
  },
  {
   "cell_type": "markdown",
   "id": "67e5d8e8",
   "metadata": {},
   "source": [
    "\n",
    "Similar to want we did in the previous post, we consider Taylor’s expanding $g(x) = \\sqrt{x}$."
   ]
  },
  {
   "cell_type": "code",
   "execution_count": 9,
   "id": "4ab4ac16",
   "metadata": {},
   "outputs": [],
   "source": [
    "x = Symbol(\"x\")\n",
    "sigma = Symbol(\"sigma\", positive = True)\n",
    "lam = IndexedBase(\"lambda\")"
   ]
  },
  {
   "cell_type": "code",
   "execution_count": 10,
   "id": "da21fea1",
   "metadata": {},
   "outputs": [
    {
     "data": {
      "text/latex": [
       "$\\displaystyle \\frac{\\left(- \\sigma^{2} + x\\right)^{3}}{16 \\sigma^{5}} - \\frac{\\left(- \\sigma^{2} + x\\right)^{2}}{8 \\sigma^{3}} + \\frac{- \\sigma^{2} + x}{2 \\sigma} + \\sigma + O\\left(\\left(- \\sigma^{2} + x\\right)^{4}; x\\rightarrow \\sigma^{2}\\right)$"
      ],
      "text/plain": [
       "          3             2                                        \n",
       "⎛   2    ⎞    ⎛   2    ⎞       2            ⎛          4        ⎞\n",
       "⎝- σ  + x⎠    ⎝- σ  + x⎠    - σ  + x        ⎜⎛   2    ⎞        2⎟\n",
       "─────────── - ─────────── + ──────── + σ + O⎝⎝- σ  + x⎠ ; x → σ ⎠\n",
       "       5             3        2⋅σ                                \n",
       "   16⋅σ           8⋅σ                                            "
      ]
     },
     "execution_count": 10,
     "metadata": {},
     "output_type": "execute_result"
    }
   ],
   "source": [
    "g = sqrt(x).series(x, x0=sigma**2, n=4)\n",
    "g"
   ]
  },
  {
   "cell_type": "markdown",
   "id": "89b73ca4",
   "metadata": {},
   "source": [
    "Now, we are ready to compute $E(S_n) = Eg(S_n^2)$ in terms of \n",
    "the scaled central moments $\\lambda_k = \\mu_k / \\sigma$.\n",
    "\n",
    "Note that $\\gamma = \\lambda_3$ and $\\kappa = \\lambda_4$ are usually called skewness and kurtosis."
   ]
  },
  {
   "cell_type": "code",
   "execution_count": 11,
   "id": "03675715",
   "metadata": {},
   "outputs": [
    {
     "data": {
      "text/latex": [
       "$\\displaystyle \\left[ \\frac{5 \\sigma}{16}, \\  \\frac{15}{16 \\sigma}, \\  - \\frac{5}{16 \\sigma^{3}}, \\  \\frac{1}{16 \\sigma^{5}}\\right]$"
      ],
      "text/plain": [
       "⎡5⋅σ   15    -5      1  ⎤\n",
       "⎢───, ────, ─────, ─────⎥\n",
       "⎢ 16  16⋅σ      3      5⎥\n",
       "⎣           16⋅σ   16⋅σ ⎦"
      ]
     },
     "execution_count": 11,
     "metadata": {},
     "output_type": "execute_result"
    }
   ],
   "source": [
    "g_coeffs = list(reversed(g.removeO().as_poly(x).all_coeffs()))\n",
    "g_coeffs"
   ]
  },
  {
   "cell_type": "code",
   "execution_count": 12,
   "id": "b4233d7b",
   "metadata": {},
   "outputs": [],
   "source": [
    "ES = sum([g_coeffs[i] * m[i]  for i in range(0, 4)]).subs({\n",
    "    mu[2]: sigma**2, \n",
    "    mu[3]: lam[3] * sigma**3, \n",
    "    mu[4]: lam[4] * sigma**4, \n",
    "    mu[6]: lam[6] * sigma**6})"
   ]
  },
  {
   "cell_type": "code",
   "execution_count": 13,
   "id": "c7dad10c",
   "metadata": {},
   "outputs": [
    {
     "data": {
      "text/latex": [
       "$\\displaystyle \\frac{\\sigma \\left(16 n^{4} - 2 n^{3} {\\lambda}_{4} - 30 n^{3} - 6 n^{2} {\\lambda}_{3}^{2} + n^{2} {\\lambda}_{4} + n^{2} {\\lambda}_{6} + 10 n^{2} + 12 n {\\lambda}_{3}^{2} + 16 n {\\lambda}_{4} - 2 n {\\lambda}_{6} - 18 n - 10 {\\lambda}_{3}^{2} - 15 {\\lambda}_{4} + {\\lambda}_{6} + 30\\right)}{16 n^{2} \\left(n^{2} - 2 n + 1\\right)}$"
      ],
      "text/plain": [
       "  ⎛    4      3                 3      2          2    2              2                \n",
       "σ⋅⎝16⋅n  - 2⋅n ⋅lambda[4] - 30⋅n  - 6⋅n ⋅lambda[3]  + n ⋅lambda[4] + n ⋅lambda[6] + 10⋅\n",
       "───────────────────────────────────────────────────────────────────────────────────────\n",
       "                                                                                       \n",
       "                                                                                       \n",
       "\n",
       " 2                 2                                                       2           \n",
       "n  + 12⋅n⋅lambda[3]  + 16⋅n⋅lambda[4] - 2⋅n⋅lambda[6] - 18⋅n - 10⋅lambda[3]  - 15⋅lambd\n",
       "───────────────────────────────────────────────────────────────────────────────────────\n",
       "     2 ⎛ 2          ⎞                                                                  \n",
       " 16⋅n ⋅⎝n  - 2⋅n + 1⎠                                                                  \n",
       "\n",
       "                     ⎞\n",
       "a[4] + lambda[6] + 30⎠\n",
       "──────────────────────\n",
       "                      \n",
       "                      "
      ]
     },
     "execution_count": 13,
     "metadata": {},
     "output_type": "execute_result"
    }
   ],
   "source": [
    "ES.simplify()"
   ]
  },
  {
   "cell_type": "markdown",
   "id": "55edd4f8",
   "metadata": {},
   "source": [
    "We then expand it in terms of $1/n$"
   ]
  },
  {
   "cell_type": "code",
   "execution_count": 14,
   "id": "d5a74d19",
   "metadata": {},
   "outputs": [],
   "source": [
    "w = Symbol(\"1/n\")"
   ]
  },
  {
   "cell_type": "code",
   "execution_count": 15,
   "id": "dce5f6ef",
   "metadata": {},
   "outputs": [
    {
     "data": {
      "text/latex": [
       "$\\displaystyle \\sigma + 1/n \\left(- \\frac{\\sigma {\\lambda}_{4}}{8} + \\frac{\\sigma}{8}\\right) + 1/n^{2} \\left(- \\frac{3 \\sigma {\\lambda}_{3}^{2}}{8} - \\frac{3 \\sigma {\\lambda}_{4}}{16} + \\frac{\\sigma {\\lambda}_{6}}{16} - \\frac{\\sigma}{8}\\right) + O\\left(1/n^{3}\\right)$"
      ],
      "text/plain": [
       "                                   ⎛               2                                  ⎞\n",
       "        ⎛  σ⋅lambda[4]   σ⎞      2 ⎜  3⋅σ⋅lambda[3]    3⋅σ⋅lambda[4]   σ⋅lambda[6]   σ⎟\n",
       "σ + 1/n⋅⎜- ─────────── + ─⎟ + 1/n ⋅⎜- ────────────── - ───────────── + ─────────── - ─⎟\n",
       "        ⎝       8        8⎠        ⎝        8                16             16       8⎠\n",
       "\n",
       "          \n",
       "    ⎛   3⎞\n",
       " + O⎝1/n ⎠\n",
       "          "
      ]
     },
     "execution_count": 15,
     "metadata": {},
     "output_type": "execute_result"
    }
   ],
   "source": [
    "ES.subs(n, 1/w).series(w, 0, 3)"
   ]
  },
  {
   "cell_type": "markdown",
   "id": "f630c81a",
   "metadata": {},
   "source": [
    "Finally, we get\n",
    "\n",
    "$$\n",
    "E(S_n) =\\sigma - \\frac{\\sigma}{8n}(\\lambda_4 - 1) + \\frac{\\sigma}{16 n^2}(\\lambda_6 - 3 \\lambda_4 - 6 \\lambda_3^2 - 2) + o(n^{-2})\n",
    "$$\n",
    "\n",
    "and\n",
    "$$\n",
    "MSE(S_n) = 2 \\sigma^2 -  2 \\sigma E(S_n)\n",
    "$$"
   ]
  },
  {
   "cell_type": "code",
   "execution_count": 16,
   "id": "ccac860d",
   "metadata": {},
   "outputs": [
    {
     "data": {
      "text/latex": [
       "$\\displaystyle 1/n \\left(\\frac{\\sigma^{2} {\\lambda}_{4}}{4} - \\frac{\\sigma^{2}}{4}\\right) + 1/n^{2} \\cdot \\left(\\frac{3 \\sigma^{2} {\\lambda}_{3}^{2}}{4} + \\frac{3 \\sigma^{2} {\\lambda}_{4}}{8} - \\frac{\\sigma^{2} {\\lambda}_{6}}{8} + \\frac{\\sigma^{2}}{4}\\right) + O\\left(1/n^{3}\\right)$"
      ],
      "text/plain": [
       "    ⎛ 2              2⎞        ⎛   2          2      2              2              2⎞  \n",
       "    ⎜σ ⋅lambda[4]   σ ⎟      2 ⎜3⋅σ ⋅lambda[3]    3⋅σ ⋅lambda[4]   σ ⋅lambda[6]   σ ⎟  \n",
       "1/n⋅⎜──────────── - ──⎟ + 1/n ⋅⎜─────────────── + ────────────── - ──────────── + ──⎟ +\n",
       "    ⎝     4         4 ⎠        ⎝       4                8               8         4 ⎠  \n",
       "\n",
       "        \n",
       "  ⎛   3⎞\n",
       " O⎝1/n ⎠\n",
       "        "
      ]
     },
     "execution_count": 16,
     "metadata": {},
     "output_type": "execute_result"
    }
   ],
   "source": [
    "MSES = 2*sigma**2 - 2*sigma*ES\n",
    "MSES.subs(n, 1/w).series(w, 0, 3)"
   ]
  },
  {
   "cell_type": "markdown",
   "id": "2c00563c",
   "metadata": {},
   "source": [
    "Therefore\n",
    "$$\n",
    "MSE(S_n) = \\frac{\\sigma^2}{4n}(\\lambda_4 - 1) - \\frac{\\sigma^2}{8 n^2}(\\lambda_6 - 3 \\lambda_4 - 6 \\lambda_3^2 - 2) + o(n^{-2}).\n",
    "$$\n",
    "\n",
    "Comparing the MSE of $\\hat \\sigma_n = \\sqrt{\\frac{\\sum(X_i - \\bar X)^2}{n}}$,\n",
    "\n",
    "$$\n",
    "MSE(\\hat \\sigma_n) = E\\left[\\sqrt{\\frac{n-1}{n}} S_n - \\sigma\\right]^2 = \\frac{n-1}{n} E(S_n^2) - 2 \\sqrt{\\frac{n-1}{n}}\\sigma E(S_n) + \\sigma^2.\n",
    "$$"
   ]
  },
  {
   "cell_type": "code",
   "execution_count": 17,
   "id": "3a286e89",
   "metadata": {},
   "outputs": [],
   "source": [
    "MSEsigmahat = (n-1)/n * sigma**2 - 2 * sigma * sqrt((n-1)/n) * ES + sigma**2"
   ]
  },
  {
   "cell_type": "code",
   "execution_count": 18,
   "id": "1efa329c",
   "metadata": {},
   "outputs": [
    {
     "data": {
      "text/latex": [
       "$\\displaystyle 1/n \\left(\\frac{\\sigma^{2} {\\lambda}_{4}}{4} - \\frac{\\sigma^{2}}{4}\\right) + 1/n^{2} \\cdot \\left(\\frac{3 \\sigma^{2} {\\lambda}_{3}^{2}}{4} + \\frac{\\sigma^{2} {\\lambda}_{4}}{4} - \\frac{\\sigma^{2} {\\lambda}_{6}}{8} + \\frac{5 \\sigma^{2}}{8}\\right) + O\\left(1/n^{3}\\right)$"
      ],
      "text/plain": [
       "    ⎛ 2              2⎞        ⎛   2          2    2              2                2⎞  \n",
       "    ⎜σ ⋅lambda[4]   σ ⎟      2 ⎜3⋅σ ⋅lambda[3]    σ ⋅lambda[4]   σ ⋅lambda[6]   5⋅σ ⎟  \n",
       "1/n⋅⎜──────────── - ──⎟ + 1/n ⋅⎜─────────────── + ──────────── - ──────────── + ────⎟ +\n",
       "    ⎝     4         4 ⎠        ⎝       4               4              8          8  ⎠  \n",
       "\n",
       "        \n",
       "  ⎛   3⎞\n",
       " O⎝1/n ⎠\n",
       "        "
      ]
     },
     "execution_count": 18,
     "metadata": {},
     "output_type": "execute_result"
    }
   ],
   "source": [
    "MSEsigmahat.subs(n, 1/w).series(w, 0, 3)"
   ]
  },
  {
   "cell_type": "markdown",
   "id": "276aec0a",
   "metadata": {},
   "source": [
    "which gives\n",
    "\n",
    "$$\n",
    "MSE(\\hat \\sigma_n) = \\frac{\\sigma^2}{4n}(\\lambda_4 - 1) - \\frac{\\sigma^2}{8 n^2}(\\lambda_6 - 2\\lambda_4 - 6 \\lambda_3^2 - 5) + o(n^{-2})\n",
    "$$\n"
   ]
  },
  {
   "cell_type": "code",
   "execution_count": 19,
   "id": "91942043",
   "metadata": {},
   "outputs": [
    {
     "data": {
      "text/latex": [
       "$\\displaystyle \\frac{\\sigma^{2} {\\lambda}_{4}}{8} - \\frac{3 \\sigma^{2}}{8}$"
      ],
      "text/plain": [
       " 2                2\n",
       "σ ⋅lambda[4]   3⋅σ \n",
       "──────────── - ────\n",
       "     8          8  "
      ]
     },
     "execution_count": 19,
     "metadata": {},
     "output_type": "execute_result"
    }
   ],
   "source": [
    "(MSES - MSEsigmahat).subs(n, 1/w).series(w, 0, 3).coeff(w**2)"
   ]
  }
 ],
 "metadata": {
  "kernelspec": {
   "display_name": "Python 3 (ipykernel)",
   "language": "python",
   "name": "python3"
  },
  "language_info": {
   "codemirror_mode": {
    "name": "ipython",
    "version": 3
   },
   "file_extension": ".py",
   "mimetype": "text/x-python",
   "name": "python",
   "nbconvert_exporter": "python",
   "pygments_lexer": "ipython3",
   "version": "3.9.5"
  }
 },
 "nbformat": 4,
 "nbformat_minor": 5
}
